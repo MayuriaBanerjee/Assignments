{
  "nbformat": 4,
  "nbformat_minor": 0,
  "metadata": {
    "colab": {
      "name": "Ineurone Assignment.ipynb",
      "provenance": []
    },
    "kernelspec": {
      "name": "python3",
      "display_name": "Python 3"
    },
    "accelerator": "GPU"
  },
  "cells": [
    {
      "cell_type": "markdown",
      "metadata": {
        "id": "TwbqbTObNoGZ",
        "colab_type": "text"
      },
      "source": [
        "Task 1 Problem 1: Write a program which will find all such numbers which are divisible by 7 but are not a multiple\n",
        "of 5, between 2000 and 3200 (both included). The numbers obtained should be printed in a\n",
        "comma-separated sequence on a single line."
      ]
    },
    {
      "cell_type": "code",
      "metadata": {
        "id": "IkUUTf9zN2vx",
        "colab_type": "code",
        "colab": {
          "base_uri": "https://localhost:8080/",
          "height": 54
        },
        "outputId": "5d2a2154-1c4d-4641-8724-fcb6c78dab32"
      },
      "source": [
        "for i in range(2000,3201):\n",
        "  if (i%7==0) and (i%5!=0):\n",
        "    print(i,end=\",\")\n",
        "\n",
        "print(\"\\b\")"
      ],
      "execution_count": 2,
      "outputs": [
        {
          "output_type": "stream",
          "text": [
            "2002,2009,2016,2023,2037,2044,2051,2058,2072,2079,2086,2093,2107,2114,2121,2128,2142,2149,2156,2163,2177,2184,2191,2198,2212,2219,2226,2233,2247,2254,2261,2268,2282,2289,2296,2303,2317,2324,2331,2338,2352,2359,2366,2373,2387,2394,2401,2408,2422,2429,2436,2443,2457,2464,2471,2478,2492,2499,2506,2513,2527,2534,2541,2548,2562,2569,2576,2583,2597,2604,2611,2618,2632,2639,2646,2653,2667,2674,2681,2688,2702,2709,2716,2723,2737,2744,2751,2758,2772,2779,2786,2793,2807,2814,2821,2828,2842,2849,2856,2863,2877,2884,2891,2898,2912,2919,2926,2933,2947,2954,2961,2968,2982,2989,2996,3003,3017,3024,3031,3038,3052,3059,3066,3073,3087,3094,3101,3108,3122,3129,3136,3143,3157,3164,3171,3178,3192,3199,\b\n"
          ],
          "name": "stdout"
        }
      ]
    },
    {
      "cell_type": "markdown",
      "metadata": {
        "id": "__kT5YFvODez",
        "colab_type": "text"
      },
      "source": [
        "Task 1 Problem 2 : Write a Python program to accept the user's first and last name and then getting them printed in\n",
        "the the reverse order with a space between first name and last name.\n"
      ]
    },
    {
      "cell_type": "code",
      "metadata": {
        "id": "adc0ntpxOK-y",
        "colab_type": "code",
        "colab": {
          "base_uri": "https://localhost:8080/",
          "height": 50
        },
        "outputId": "3e43094b-fea7-4993-8ac4-08b704cf6b9a"
      },
      "source": [
        "name = input(\"Enter your full name\")\n",
        "print(name[::-1])"
      ],
      "execution_count": 3,
      "outputs": [
        {
          "output_type": "stream",
          "text": [
            "Enter your full nameMayuria Banerjee\n",
            "eejrenaB airuyaM\n"
          ],
          "name": "stdout"
        }
      ]
    },
    {
      "cell_type": "markdown",
      "metadata": {
        "id": "mi9a-j6BOUTE",
        "colab_type": "text"
      },
      "source": [
        "Task 1 Problem 3: Write a Python program to find the volume of a sphere with diameter 12 cm.\n",
        "Formula: V=4/3 * π * r\n",
        "3"
      ]
    },
    {
      "cell_type": "code",
      "metadata": {
        "id": "eP0POfMAOc1D",
        "colab_type": "code",
        "colab": {
          "base_uri": "https://localhost:8080/",
          "height": 50
        },
        "outputId": "ffc446b9-d14b-4016-f3b0-b19ceed9015c"
      },
      "source": [
        "PI = 3.14\n",
        "Dia = int(input(\"Enter the diameter\"))\n",
        "\n",
        "V = 4/3 * PI * (Dia/2)**3\n",
        "print(V)"
      ],
      "execution_count": 4,
      "outputs": [
        {
          "output_type": "stream",
          "text": [
            "Enter the diameter12\n",
            "904.3199999999999\n"
          ],
          "name": "stdout"
        }
      ]
    },
    {
      "cell_type": "markdown",
      "metadata": {
        "id": "K-232eueOlyc",
        "colab_type": "text"
      },
      "source": [
        "Task 2 : Problem 5:Create the below pattern using nested for loop in Python."
      ]
    },
    {
      "cell_type": "code",
      "metadata": {
        "id": "hEvW-OzAOtW7",
        "colab_type": "code",
        "colab": {}
      },
      "source": [
        "rows = int(input(\"enter the maximun star to display : \"))\n",
        "for i in range(0,rows):\n",
        "   for j in range(0,i+1):\n",
        "    print(\"*\",end=' ')    \n",
        "print(\"\\n\")\n",
        "\n",
        "for i in range(rows,0,-1):\n",
        "   for j in range(0,i-1):\n",
        "    print(\"*\",end=' ')\n",
        "print(\"\\n\")"
      ],
      "execution_count": 0,
      "outputs": []
    },
    {
      "cell_type": "markdown",
      "metadata": {
        "id": "DxTmQXTsO5KF",
        "colab_type": "text"
      },
      "source": [
        "Task 2 Problem 4: Write a program which accepts a sequence of comma-separated numbers from console and generate a list."
      ]
    },
    {
      "cell_type": "code",
      "metadata": {
        "id": "42ZxJDS1O-ha",
        "colab_type": "code",
        "colab": {
          "base_uri": "https://localhost:8080/",
          "height": 50
        },
        "outputId": "8fd2649c-8282-41f7-fa2a-15d6591327da"
      },
      "source": [
        "inp = input()\n",
        "list = inp.split(',')\n",
        "print(list)"
      ],
      "execution_count": 7,
      "outputs": [
        {
          "output_type": "stream",
          "text": [
            "1,2,3\n",
            "['1', '2', '3']\n"
          ],
          "name": "stdout"
        }
      ]
    },
    {
      "cell_type": "markdown",
      "metadata": {
        "id": "Smr694F4PHTd",
        "colab_type": "text"
      },
      "source": [
        "Task 2 Problem 5: Write a Python program to reverse a word after accepting the input from the user."
      ]
    },
    {
      "cell_type": "code",
      "metadata": {
        "id": "7XMxh17cPMxt",
        "colab_type": "code",
        "colab": {
          "base_uri": "https://localhost:8080/",
          "height": 50
        },
        "outputId": "1aa0a048-32a1-4ea7-9519-00b0e2a8c18c"
      },
      "source": [
        "imp = input(\"Enter the word to reverse : \")\n",
        "print(imp[::-1])"
      ],
      "execution_count": 8,
      "outputs": [
        {
          "output_type": "stream",
          "text": [
            "Enter the word to reverse : AcadGild\n",
            "dliGdacA\n"
          ],
          "name": "stdout"
        }
      ]
    },
    {
      "cell_type": "markdown",
      "metadata": {
        "id": "IUuvDceVPWNs",
        "colab_type": "text"
      },
      "source": [
        "Task 2 Problem 6: Write a Python Program to print the given string in the format specified in the sample output."
      ]
    },
    {
      "cell_type": "code",
      "metadata": {
        "id": "4aWBMQ0OPZ4N",
        "colab_type": "code",
        "colab": {
          "base_uri": "https://localhost:8080/",
          "height": 84
        },
        "outputId": "68c388f9-6b10-45e9-d7bc-4d97cc073bc5"
      },
      "source": [
        "print(\"WE, THE PEOPLE OF INDIA,\\n \\t having solemnly resolved to constitute India into a SOVEREIGN,\\n \\t  SOCIALIST, SECULAR, DEMOCRATIC REPUBLIC \\n \\t   and to secure to all its citizens \")"
      ],
      "execution_count": 13,
      "outputs": [
        {
          "output_type": "stream",
          "text": [
            "WE, THE PEOPLE OF INDIA,\n",
            " \t having solemnly resolved to constitute India into a SOVEREIGN,\n",
            " \t  SOCIALIST, SECULAR, DEMOCRATIC REPUBLIC \n",
            " \t   and to secure to all its citizens \n"
          ],
          "name": "stdout"
        }
      ]
    }
  ]
}